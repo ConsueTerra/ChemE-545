{
 "cells": [
  {
   "cell_type": "code",
   "execution_count": 1,
   "id": "af0bbaeb-2461-40bf-8289-384b0ba6f890",
   "metadata": {
    "tags": []
   },
   "outputs": [],
   "source": [
    "import numpy as np\n",
    "import random"
   ]
  },
  {
   "cell_type": "markdown",
   "id": "da37ff4f-a63b-4013-bac3-b172c50910b6",
   "metadata": {},
   "source": [
    "## Exercise 1 "
   ]
  },
  {
   "cell_type": "markdown",
   "id": "5e22e6d7-b1c8-4067-abfe-86bcf30339df",
   "metadata": {},
   "source": [
    "Create a list of 10 random numbers, use a for loop to calculate the mean of this list\n"
   ]
  },
  {
   "cell_type": "code",
   "execution_count": 4,
   "metadata": {},
   "outputs": [
    {
     "data": {
      "text/plain": [
       "4.2"
      ]
     },
     "execution_count": 4,
     "metadata": {},
     "output_type": "execute_result"
    }
   ],
   "source": [
    "random.seed(42)\n",
    "num_list = [random.randint(0,10) for _ in range(10)]\n",
    "sum(num_list)/len(num_list)"
   ]
  },
  {
   "cell_type": "markdown",
   "id": "8239a2d2-d2aa-4474-af83-a820735aeef9",
   "metadata": {},
   "source": [
    "## Exercise 2"
   ]
  },
  {
   "cell_type": "markdown",
   "id": "4cb84219-b9d9-4745-81f7-3a678cf75d51",
   "metadata": {},
   "source": [
    "Write a function which calculates the mean of a list provided as an argument\n"
   ]
  },
  {
   "cell_type": "code",
   "execution_count": 5,
   "metadata": {},
   "outputs": [],
   "source": [
    "avg = lambda x: sum(x)/len(x)"
   ]
  },
  {
   "cell_type": "markdown",
   "id": "1ae68bcc-a1f3-4d00-8ca9-60ca31d17b02",
   "metadata": {},
   "source": [
    "## Exercise 3"
   ]
  },
  {
   "cell_type": "markdown",
   "id": "5f56e4cc-0c69-4eff-b143-b6b6fabd0e66",
   "metadata": {},
   "source": [
    "Write a function to find the maximum value in a given list without using recursion \n"
   ]
  },
  {
   "cell_type": "code",
   "execution_count": 24,
   "metadata": {},
   "outputs": [
    {
     "ename": "NameError",
     "evalue": "cannot access free variable 'm' where it is not associated with a value in enclosing scope",
     "output_type": "error",
     "traceback": [
      "\u001b[1;31m---------------------------------------------------------------------------\u001b[0m",
      "\u001b[1;31mNameError\u001b[0m                                 Traceback (most recent call last)",
      "\u001b[1;32ms:\\Work_And_Art\\Code\\ChemE 545\\Lecture_2_exercise_student_Copy.ipynb Cell 10\u001b[0m line \u001b[0;36m2\n\u001b[0;32m      <a href='vscode-notebook-cell:/s%3A/Work_And_Art/Code/ChemE%20545/Lecture_2_exercise_student_Copy.ipynb#X20sZmlsZQ%3D%3D?line=0'>1</a>\u001b[0m silly \u001b[39m=\u001b[39m \u001b[39mlambda\u001b[39;00m x : ((m \u001b[39m:=\u001b[39m \u001b[39mmax\u001b[39m(m,i)) \u001b[39mfor\u001b[39;00m i \u001b[39min\u001b[39;00m x)\n\u001b[1;32m----> <a href='vscode-notebook-cell:/s%3A/Work_And_Art/Code/ChemE%20545/Lecture_2_exercise_student_Copy.ipynb#X20sZmlsZQ%3D%3D?line=1'>2</a>\u001b[0m \u001b[39mfor\u001b[39;49;00m i \u001b[39min\u001b[39;49;00m silly([random\u001b[39m.\u001b[39;49mrandint(\u001b[39m0\u001b[39;49m,\u001b[39m100\u001b[39;49m) \u001b[39mfor\u001b[39;49;00m _ \u001b[39min\u001b[39;49;00m \u001b[39mrange\u001b[39;49m(\u001b[39m10\u001b[39;49m)]):\n\u001b[0;32m      <a href='vscode-notebook-cell:/s%3A/Work_And_Art/Code/ChemE%20545/Lecture_2_exercise_student_Copy.ipynb#X20sZmlsZQ%3D%3D?line=2'>3</a>\u001b[0m     \u001b[39mprint\u001b[39;49m(i)\n",
      "\u001b[1;32ms:\\Work_And_Art\\Code\\ChemE 545\\Lecture_2_exercise_student_Copy.ipynb Cell 10\u001b[0m line \u001b[0;36m1\n\u001b[1;32m----> <a href='vscode-notebook-cell:/s%3A/Work_And_Art/Code/ChemE%20545/Lecture_2_exercise_student_Copy.ipynb#X20sZmlsZQ%3D%3D?line=0'>1</a>\u001b[0m silly \u001b[39m=\u001b[39m \u001b[39mlambda\u001b[39;00m x : ((m \u001b[39m:=\u001b[39m \u001b[39mmax\u001b[39m(m,i)) \u001b[39mfor\u001b[39;00m i \u001b[39min\u001b[39;00m x)\n\u001b[0;32m      <a href='vscode-notebook-cell:/s%3A/Work_And_Art/Code/ChemE%20545/Lecture_2_exercise_student_Copy.ipynb#X20sZmlsZQ%3D%3D?line=1'>2</a>\u001b[0m \u001b[39mfor\u001b[39;00m i \u001b[39min\u001b[39;00m silly([random\u001b[39m.\u001b[39mrandint(\u001b[39m0\u001b[39m,\u001b[39m100\u001b[39m) \u001b[39mfor\u001b[39;00m _ \u001b[39min\u001b[39;00m \u001b[39mrange\u001b[39m(\u001b[39m10\u001b[39m)]):\n\u001b[0;32m      <a href='vscode-notebook-cell:/s%3A/Work_And_Art/Code/ChemE%20545/Lecture_2_exercise_student_Copy.ipynb#X20sZmlsZQ%3D%3D?line=2'>3</a>\u001b[0m     \u001b[39mprint\u001b[39m(i)\n",
      "\u001b[1;31mNameError\u001b[0m: cannot access free variable 'm' where it is not associated with a value in enclosing scope"
     ]
    }
   ],
   "source": [
    "silly = lambda x : ((m := max(m,i)) for i in x)\n",
    "for i in silly([random.randint(0,100) for _ in range(10)]):\n",
    "    print(i)"
   ]
  },
  {
   "cell_type": "markdown",
   "id": "7758088c-3777-4ab9-a058-9a4f9d5a43d6",
   "metadata": {},
   "source": [
    "## Exercise 4"
   ]
  },
  {
   "cell_type": "markdown",
   "id": "2a5f3f69-3995-44b7-9526-d4e36cd76584",
   "metadata": {
    "tags": []
   },
   "source": [
    "Write a function to find the maximum value in a given list using recursion \n"
   ]
  },
  {
   "cell_type": "code",
   "execution_count": 25,
   "id": "f23ca663-8bda-48e7-936a-253915aae329",
   "metadata": {},
   "outputs": [
    {
     "data": {
      "text/plain": [
       "96"
      ]
     },
     "execution_count": 25,
     "metadata": {},
     "output_type": "execute_result"
    }
   ],
   "source": [
    "funny = lambda x : 0 if len(x) == 0 else ( m if (m:= funny(x[:-1])) > (n:= x[-1]) else n)\n",
    "\n",
    "funny([random.randint(0,100) for _ in range(10)])"
   ]
  },
  {
   "cell_type": "code",
   "execution_count": null,
   "metadata": {},
   "outputs": [],
   "source": []
  }
 ],
 "metadata": {
  "kernelspec": {
   "display_name": "Python 3 (ipykernel)",
   "language": "python",
   "name": "python3"
  },
  "language_info": {
   "codemirror_mode": {
    "name": "ipython",
    "version": 3
   },
   "file_extension": ".py",
   "mimetype": "text/x-python",
   "name": "python",
   "nbconvert_exporter": "python",
   "pygments_lexer": "ipython3",
   "version": "3.11.6"
  }
 },
 "nbformat": 4,
 "nbformat_minor": 5
}
